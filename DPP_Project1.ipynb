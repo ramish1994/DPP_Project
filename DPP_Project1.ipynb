{
 "cells": [
  {
   "cell_type": "code",
   "execution_count": 1,
   "id": "5902cdaf",
   "metadata": {},
   "outputs": [],
   "source": [
    "#Import Libries file\n",
    "import pandas as pd\n",
    "import numpy as np\n",
    "import time"
   ]
  },
  {
   "cell_type": "markdown",
   "id": "790abbd9",
   "metadata": {},
   "source": [
    "# Quasi-Identifier"
   ]
  },
  {
   "cell_type": "code",
   "execution_count": 2,
   "id": "643228d5",
   "metadata": {},
   "outputs": [],
   "source": [
    "def find_dimension(qi_data):\n",
    "    #print(qi_data)\n",
    "    \n",
    "    atri_dims = {}\n",
    "    #First step iterate kya har column ko\n",
    "    #data me se har column ki ek max value nikali or ek min value nikali \n",
    "    #use diff me save kiya us k bad us value ko divide kiya max no of value se \n",
    "    #us data ke key k against dimension k value(jo k int hai) save ker di\n",
    "    for column in qi_data:\n",
    "        diff = ((data[column].max()) - (data[column].min()))\n",
    "        # dimension -----\n",
    "        dim = diff/(data[column].max())\n",
    "        atri_dims[column]= dim\n",
    "          \n",
    "    return atri_dims"
   ]
  },
  {
   "cell_type": "code",
   "execution_count": 3,
   "id": "ff2c140d",
   "metadata": {},
   "outputs": [],
   "source": [
    "def choose_dimension(dims):\n",
    "    max_key = max(dims, key=dims.get)\n",
    "    return max_key"
   ]
  },
  {
   "cell_type": "code",
   "execution_count": 4,
   "id": "18db2527",
   "metadata": {},
   "outputs": [],
   "source": [
    "def find_median(frequency_set):\n",
    "\n",
    "    length = len(frequency_set)\n",
    "    med_index = 0\n",
    "\n",
    "    if length % 2 == 0:\n",
    "        med_index = length/2 \n",
    "    else:\n",
    "        med_index = (length/2)+1\n",
    "    \n",
    "    return med_index"
   ]
  },
  {
   "cell_type": "code",
   "execution_count": 5,
   "id": "a6ccdbd0",
   "metadata": {},
   "outputs": [],
   "source": [
    "def split_value(frequency_set, med_index):\n",
    "    sides = np.array_split(frequency_set, med_index)\n",
    "\n",
    "    lhs = frequency_set[0:int(med_index)]\n",
    "    rhs = frequency_set[int(med_index):len(frequency_set)]\n",
    "    \n",
    "    return lhs, rhs"
   ]
  },
  {
   "cell_type": "code",
   "execution_count": 6,
   "id": "83773141",
   "metadata": {},
   "outputs": [],
   "source": [
    "def recursive(data, k):\n",
    "    update_data=''\n",
    "    \n",
    "    if len(data) > k:\n",
    "\n",
    "        dimensions = find_dimension(data)\n",
    "\n",
    "        best_dimension = choose_dimension(dimensions)\n",
    "\n",
    "        frequency_set = data[best_dimension]\n",
    "\n",
    "        med_index = find_median(frequency_set)\n",
    "\n",
    "        lhs, rhs = split_value(data, med_index)\n",
    "\n",
    "        lhs_data = recursive(lhs,k)\n",
    "        \n",
    "        rhs_data = recursive(rhs,k)\n",
    "        \n",
    "        frame = [lhs_data, rhs_data]\n",
    "        update_data = pd.concat(frame, ignore_index=True)\n",
    "        \n",
    "    else:\n",
    "        update_data = anonymization(data)\n",
    "    \n",
    "    return update_data\n",
    "        \n",
    "    "
   ]
  },
  {
   "cell_type": "code",
   "execution_count": 7,
   "id": "269e88a6",
   "metadata": {},
   "outputs": [],
   "source": [
    "def iterative(data, k):\n",
    "    \n",
    "    start = 0\n",
    "    end = k\n",
    "    columns = data.columns\n",
    "    \n",
    "    updated_data = pd.DataFrame(columns = columns)\n",
    "    \n",
    "    while(end < len(data)):\n",
    "        \n",
    "        slice = data.iloc[start:end]\n",
    "        updated_slice = anonymization(slice)\n",
    "\n",
    "        updated_data = pd.concat([updated_data, updated_slice], ignore_index=True)\n",
    "        \n",
    "        start= end \n",
    "        end = end + k\n",
    "        \n",
    "    if end is not len(data):\n",
    "        end = len(data)\n",
    "        slice = data.iloc[start:end]\n",
    "        updated_slice = anonymization(slice)\n",
    "\n",
    "        updated_data = pd.concat([updated_data, updated_slice], ignore_index=True)\n",
    "        \n",
    "    return updated_data"
   ]
  },
  {
   "cell_type": "code",
   "execution_count": 8,
   "id": "c221f18d",
   "metadata": {},
   "outputs": [],
   "source": [
    "def anonymization(data):\n",
    "    \n",
    "    col = []\n",
    "    rows = []\n",
    "    no_of_rows = 0 \n",
    "    \n",
    "    for column in data:\n",
    "        data_min = (data[column].min())\n",
    "        data_max = (data[column].max())\n",
    "        value = ''\n",
    "        \n",
    "        if data_min == data_max:\n",
    "            value = str(data_max)\n",
    "        else:\n",
    "            value = str(data_min)+ \"-\" + str(data_max)\n",
    "        \n",
    "        col.append(value)\n",
    "        \n",
    "        no_of_rows = len(data[column])\n",
    "    \n",
    "    for i in range(no_of_rows):\n",
    "        rows.append(col)\n",
    "    \n",
    "    df1 = pd.DataFrame(rows, columns=data.columns)\n",
    "    return df1"
   ]
  },
  {
   "cell_type": "code",
   "execution_count": 9,
   "id": "2e9dfb63",
   "metadata": {},
   "outputs": [
    {
     "name": "stdout",
     "output_type": "stream",
     "text": [
      "0.0060083866119384766\n",
      "        age     zip_code\n",
      "0     24-44  61000-68999\n",
      "1     24-44  61000-68999\n",
      "2     24-44  61000-68999\n",
      "3     24-44  61000-68999\n",
      "4     24-44  61000-68999\n",
      "...     ...          ...\n",
      "9995  24-44  61000-68999\n",
      "9996  24-44  61000-68999\n",
      "9997  24-44  61000-68999\n",
      "9998  24-44  61000-68999\n",
      "9999  24-44  61000-68999\n",
      "\n",
      "[10000 rows x 2 columns]\n",
      "0.010073184967041016\n",
      "        age     zip_code\n",
      "0     24-44  61000-68999\n",
      "1     24-44  61000-68999\n",
      "2     24-44  61000-68999\n",
      "3     24-44  61000-68999\n",
      "4     24-44  61000-68999\n",
      "...     ...          ...\n",
      "9995  24-44  61000-68999\n",
      "9996  24-44  61000-68999\n",
      "9997  24-44  61000-68999\n",
      "9998  24-44  61000-68999\n",
      "9999  24-44  61000-68999\n",
      "\n",
      "[10000 rows x 2 columns]\n"
     ]
    }
   ],
   "source": [
    "#Get data from CSV\n",
    "data = pd.read_csv(\"DPP_dateset.csv\")\n",
    "\n",
    "k = 100\n",
    "#quasi identifier name\n",
    "qi = [\"age\",\"zip_code\"]\n",
    "\n",
    "qi_data = pd.DataFrame(data, columns = qi)\n",
    "\n",
    "start = time.time()\n",
    "# K no of rows same in the qi_data\n",
    "k_anonymized = recursive(qi_data, k)\n",
    "\n",
    "end = time.time()\n",
    "print(end - start)\n",
    "\n",
    "print(k_anonymized)\n",
    "\n",
    "start = time.time()\n",
    "\n",
    "k_anonymized = iterative(qi_data, k)\n",
    "\n",
    "end = time.time()\n",
    "print(end - start)\n",
    "print(k_anonymized)\n"
   ]
  },
  {
   "cell_type": "code",
   "execution_count": null,
   "id": "87ae7786",
   "metadata": {},
   "outputs": [],
   "source": []
  }
 ],
 "metadata": {
  "kernelspec": {
   "display_name": "Python 3 (ipykernel)",
   "language": "python",
   "name": "python3"
  },
  "language_info": {
   "codemirror_mode": {
    "name": "ipython",
    "version": 3
   },
   "file_extension": ".py",
   "mimetype": "text/x-python",
   "name": "python",
   "nbconvert_exporter": "python",
   "pygments_lexer": "ipython3",
   "version": "3.9.12"
  }
 },
 "nbformat": 4,
 "nbformat_minor": 5
}
